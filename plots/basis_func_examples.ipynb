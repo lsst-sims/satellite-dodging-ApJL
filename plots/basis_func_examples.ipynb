{
 "cells": [
  {
   "cell_type": "code",
   "execution_count": 1,
   "id": "2accba28",
   "metadata": {},
   "outputs": [],
   "source": [
    "from rubin_sim.satellite_constellations import Satellite_avoid_basis_function\n",
    "from rubin_sim.satellite_constellations import Model_observatory\n",
    "import rubin_sim.satellite_constellations.sat_utils as sat_utils\n",
    "\n",
    "\n",
    "import healpy as hp\n",
    "import numpy as np\n",
    "import matplotlib.pylab as plt\n",
    "%matplotlib inline\n"
   ]
  },
  {
   "cell_type": "code",
   "execution_count": null,
   "id": "a41a8fd8",
   "metadata": {},
   "outputs": [
    {
     "name": "stderr",
     "output_type": "stream",
     "text": [
      "WARNING: TimeDeltaMissingUnitWarning: Numerical value without unit or explicit format passed to TimeDelta, assuming days [astropy.time.core]\n",
      "WARNING: TimeDeltaMissingUnitWarning: Numerical value without unit or explicit format passed to TimeDelta, assuming days [astropy.time.core]\n",
      "WARNING: TimeDeltaMissingUnitWarning: Numerical value without unit or explicit format passed to TimeDelta, assuming days [astropy.time.core]\n"
     ]
    }
   ],
   "source": [
    "\n",
    "titles = {'starlink_tles_v1': 'StarlinkV1',\n",
    "          'starlink_tles_v2': 'StarlinkV2',\n",
    "          'oneweb_tles': 'OneWeb'}\n",
    "# Takes a freaking long time to run, because the observatory is predicting things for a full night I think.\n",
    "for constellation_name in ['starlink_tles_v1', 'starlink_tles_v2', 'oneweb_tles']:\n",
    "\n",
    "    func = getattr(sat_utils, constellation_name)\n",
    "    tles = func()\n",
    "    constellation = sat_utils.Constellation(tles)\n",
    "    \n",
    "    mo = Model_observatory(constellation=constellation)\n",
    "    for tstep in [0, .03]:\n",
    "        mo.mjd += tstep\n",
    "        conditions = mo.return_conditions()\n",
    "        bf = Satellite_avoid_basis_function()\n",
    "        sat_map = bf(conditions)\n",
    "        \n",
    "        below = np.where(conditions.alt < np.radians(20))[0]\n",
    "        sat_map[below] = np.nan\n",
    "\n",
    "        title = titles[constellation_name]\n",
    "        title += ' sun altitude=%.1f degrees' % np.degrees(conditions.sunAlt)\n",
    "        hp.mollview(sat_map, rot=(conditions.lmst*180/12., conditions.site.latitude),\n",
    "                    title=title, cbar=False, min=-18, max=0)\n",
    "        # healpy failing on negative colorbar for some reason. That's a new one.\n",
    "        ax = plt.gca()\n",
    "        im = ax.get_images()[0]\n",
    "        cb = plt.colorbar(im,\n",
    "                            shrink=0.75,\n",
    "                            aspect=25,\n",
    "                            pad=0.1,\n",
    "                            orientation=\"horizontal\",\n",
    "                            extendrect=True)\n",
    "        cb.set_label('unweighted reward (unitless)')\n",
    "        hp.graticule()\n",
    "        plt.savefig(constellation_name+'_%.2f_basisfunc.pdf' % tstep)\n",
    "        "
   ]
  },
  {
   "cell_type": "code",
   "execution_count": null,
   "id": "61579fdf",
   "metadata": {},
   "outputs": [],
   "source": [
    "hp.mollview(sat_map, rot=(conditions.lmst*180/12., conditions.site.latitude),\n",
    "                    title=title, unit='unweighted reward (unitless)', min=-18, max=0)"
   ]
  },
  {
   "cell_type": "code",
   "execution_count": null,
   "id": "d4540b1e",
   "metadata": {},
   "outputs": [],
   "source": [
    "sat_map = bf(conditions)\n",
    "below = np.where(conditions.alt < np.radians(20))[0]\n",
    "sat_map[below] = np.nan"
   ]
  },
  {
   "cell_type": "code",
   "execution_count": null,
   "id": "a26c84d5",
   "metadata": {},
   "outputs": [],
   "source": [
    "hp.mollview(sat_map, rot=(conditions.lmst*180/12., conditions.site.latitude),\n",
    "                    title=title, unit='unweighted reward (unitless)', min=-18, max=0)\n",
    "hp.graticule()"
   ]
  },
  {
   "cell_type": "code",
   "execution_count": null,
   "id": "0797834c",
   "metadata": {},
   "outputs": [],
   "source": []
  },
  {
   "cell_type": "code",
   "execution_count": null,
   "id": "83fd0921",
   "metadata": {},
   "outputs": [],
   "source": []
  },
  {
   "cell_type": "code",
   "execution_count": null,
   "id": "aea10b27",
   "metadata": {},
   "outputs": [],
   "source": []
  },
  {
   "cell_type": "code",
   "execution_count": null,
   "id": "d747edf8",
   "metadata": {},
   "outputs": [],
   "source": []
  },
  {
   "cell_type": "code",
   "execution_count": null,
   "id": "1ba89bad",
   "metadata": {},
   "outputs": [],
   "source": []
  },
  {
   "cell_type": "code",
   "execution_count": null,
   "id": "d9853e7c",
   "metadata": {},
   "outputs": [],
   "source": []
  },
  {
   "cell_type": "code",
   "execution_count": null,
   "id": "39c4b686",
   "metadata": {},
   "outputs": [],
   "source": []
  },
  {
   "cell_type": "code",
   "execution_count": null,
   "id": "b3ed76de",
   "metadata": {},
   "outputs": [],
   "source": [
    "hp.mollview(sat_map, cbar=False, min=-10)\n",
    "ax = plt.gca()\n",
    "im = ax.get_images()[0]\n",
    "cb = plt.colorbar(im,\n",
    "                    shrink=0.75,\n",
    "                    aspect=25,\n",
    "                    pad=0.1,\n",
    "                    orientation=\"horizontal\",\n",
    "                    extendrect=True)\n",
    "cb.set_label('unweighted reward (unitless)')\n",
    "#fig.colorbar(ax)\n",
    "#cbar = fig.colorbar(ax, ticks=[-1, 0, 1], orientation='horizontal')"
   ]
  },
  {
   "cell_type": "code",
   "execution_count": null,
   "id": "c3e7389a",
   "metadata": {},
   "outputs": [],
   "source": [
    "help(plt.colorbar)"
   ]
  },
  {
   "cell_type": "code",
   "execution_count": null,
   "id": "097b2a87",
   "metadata": {},
   "outputs": [],
   "source": []
  }
 ],
 "metadata": {
  "kernelspec": {
   "display_name": "Python 3 (ipykernel)",
   "language": "python",
   "name": "python3"
  },
  "language_info": {
   "codemirror_mode": {
    "name": "ipython",
    "version": 3
   },
   "file_extension": ".py",
   "mimetype": "text/x-python",
   "name": "python",
   "nbconvert_exporter": "python",
   "pygments_lexer": "ipython3",
   "version": "3.8.13"
  }
 },
 "nbformat": 4,
 "nbformat_minor": 5
}
