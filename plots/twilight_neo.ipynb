{
 "cells": [
  {
   "cell_type": "code",
   "execution_count": 1,
   "id": "272cb877",
   "metadata": {},
   "outputs": [],
   "source": [
    "## file twi_neo_repeat3_iz_np1_v2.2_10yrs.db available at: https://s3df.slac.stanford.edu/groups/rubin/static/sim-data/defunct_sims_featureScheduler_runs2.2/twilight_neo/\n",
    "##  DO NOT ADD TO THE REPO!!!!\n"
   ]
  },
  {
   "cell_type": "code",
   "execution_count": 2,
   "id": "2136940b",
   "metadata": {},
   "outputs": [],
   "source": [
    "import numpy as np\n",
    "import matplotlib.pylab as plt\n",
    "%matplotlib inline\n",
    "import pandas as pd\n",
    "import sqlite3\n",
    "from scipy.stats import binned_statistic\n",
    "import rubin_sim.maf as maf"
   ]
  },
  {
   "cell_type": "code",
   "execution_count": 3,
   "id": "5e89630b",
   "metadata": {},
   "outputs": [
    {
     "name": "stdout",
     "output_type": "stream",
     "text": [
      "Healpix slicer using NSIDE=64, approximate resolution 54.967783 arcminutes\n"
     ]
    }
   ],
   "source": [
    "# Let's make a plot looking at how the twilight NEO observations are distributed\n",
    "\n",
    "bundleList = []\n",
    "\n",
    "nside=64\n",
    "metric = maf.CountMetric(col='night')\n",
    "sql = 'night < 366 and visitExposureTime < 20'\n",
    "\n",
    "slicer = maf.HealpixSlicer(\n",
    "        nside=nside,\n",
    "        latCol='altitude',\n",
    "        lonCol='azimuth',\n",
    "        useCache=False)\n",
    "plotFuncs = [maf.LambertSkyMap()]\n",
    "plotDict = {\"norm\": \"log\", 'title': 'Twilight NEO Observations',\n",
    "           'xlabel': 'N Observations'}\n",
    "\n",
    "bundle = maf.MetricBundle(\n",
    "            metric,\n",
    "            slicer,\n",
    "            sql,\n",
    "            plotFuncs=plotFuncs,\n",
    "            plotDict=plotDict,\n",
    "        )\n",
    "bundleList.append(bundle)"
   ]
  },
  {
   "cell_type": "code",
   "execution_count": null,
   "id": "1077b2ed",
   "metadata": {},
   "outputs": [],
   "source": [
    "bg = maf.MetricBundleGroup([bundle], 'twi_neo_repeat3_iz_np1_v2.2_10yrs.db', 'temp', None)\n",
    "bg.runAll()\n",
    "bg.plotAll(closefigs=False)"
   ]
  },
  {
   "cell_type": "code",
   "execution_count": null,
   "id": "caf6cf19",
   "metadata": {},
   "outputs": [],
   "source": [
    "tags = ['slv1', 'slv2', 'oneweb']\n",
    "pix_width = 50\n",
    "pixscale = 0.2\n",
    "n_pix = 2.9e9\n",
    "\n",
    "labels = {'slv1': 'Starlink Gen1',\n",
    "          'slv2': 'Starlink Gen2',\n",
    "          'oneweb': 'OneWeb'}\n",
    "\n",
    "con = sqlite3.connect('twi_neo_repeat3_iz_np1_v2.2_10yrs.db')\n",
    "orig = pd.read_sql('select * from observations where night < 366', con)\n",
    "\n",
    "for tag in tags:\n",
    "    data = np.load('twi_neo_repeat3_iz_np1_v2.2_10yrs%s.npz' % tag)['obs_array'].copy()\n",
    "    indx = np.in1d(orig['observationId'].values, data['observationId'])\n",
    "\n",
    "    orig = orig.iloc[np.where(indx == True)[0]]\n",
    "    \n",
    "    twi_indx = np.where(orig['visitExposureTime'] < 20)[0]\n",
    "    reg_indx = np.where(orig['visitExposureTime'] >= 20)[0]\n",
    "\n",
    "    \n",
    "    pix_lost = data['streak_len_deg'][twi_indx].mean() * 3600/pixscale * pix_width  # pix per image\n",
    "    pix_lost_percent = pix_lost/n_pix*100\n",
    "    \n",
    "    print(tag, pix_lost_percent)\n",
    "    \n",
    "    mean_n_s, alts, bd = binned_statistic(orig['altitude'].values[twi_indx], data['n_streaks'][twi_indx], bins=15)\n",
    "    plt.plot(alts[1:], mean_n_s, label=labels[tag]+'\\n%.3f%%' % pix_lost_percent)\n",
    "\n",
    "plt.legend()\n",
    "plt.xlabel('Altitude (deg)')\n",
    "plt.ylabel('Mean N Streaks')\n",
    "plt.title('Twilight 15s NEO Observations')\n",
    "plt.savefig('twilight_curves.pdf')"
   ]
  },
  {
   "cell_type": "code",
   "execution_count": null,
   "id": "af9dd09e",
   "metadata": {},
   "outputs": [],
   "source": [
    "# sanity check, one 3.5 degree streak wipes out what % of pixels?\n",
    "3.5*3600/.2*50/2.9e9*100"
   ]
  },
  {
   "cell_type": "code",
   "execution_count": null,
   "id": "c3b1a2f4",
   "metadata": {},
   "outputs": [],
   "source": []
  }
 ],
 "metadata": {
  "kernelspec": {
   "display_name": "Python 3 (ipykernel)",
   "language": "python",
   "name": "python3"
  },
  "language_info": {
   "codemirror_mode": {
    "name": "ipython",
    "version": 3
   },
   "file_extension": ".py",
   "mimetype": "text/x-python",
   "name": "python",
   "nbconvert_exporter": "python",
   "pygments_lexer": "ipython3",
   "version": "3.8.13"
  }
 },
 "nbformat": 4,
 "nbformat_minor": 5
}
